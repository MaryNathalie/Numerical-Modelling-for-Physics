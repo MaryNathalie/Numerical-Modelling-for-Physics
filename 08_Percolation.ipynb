{
 "cells": [
  {
   "cell_type": "markdown",
   "metadata": {},
   "source": [
    "## Percolation Model\n",
    "\n",
    "A model for disordered materials. <br>\n",
    "Describes a porous material through which certain particles can diffuse (or percolate) if there are continious paths through the pores. <br>\n",
    "Related to phase transitions, critical phenomena, universality and self-similar fractals. Percolation theory describes the geometry of the randol generated pores. "
   ]
  },
  {
   "cell_type": "markdown",
   "metadata": {},
   "source": [
    "Assume that we have an alloy consisting of A atoms and B atoms, where p is the concentration of A atoms, distributed randomly and form a regular crystal lattice together. <br>\n",
    "Assume that A atoms are magnetic, with a short-range magnetic interaction effective only if 2 A atoms are connected to each other. <br> \n",
    "If there is no coupling with the nonmagnetic B atoms, the crystal can only for a magnetic order if there is an infinite network of connected A atoms. <br>\n",
    "Strictly speaking, phase transitiong only occur in inf systems with a sufficient degree of interconectedness, but phase transition also occurs at a critical concentration of A atoms. <br>\n",
    "Cluster - a set of A atoms that are connected by their couplings"
   ]
  },
  {
   "cell_type": "markdown",
   "metadata": {},
   "source": [
    "small p: large no. of small clusters, no overall magnetic ordering <br>\n",
    "p increases, average size of cluster increases, until starting at a critical p, a cluster extends through the entire crystal<br>\n",
    "pc - percolation threshold or critical concentration <br>\n",
    "p>pc: inf clusters coexists with many small clusters <br>\n",
    "p=1: all sides occupied by A atoms, only one (inf) cluster"
   ]
  },
  {
   "cell_type": "markdown",
   "metadata": {},
   "source": [
    "square lattice with 4 nearest neighbors: pc = 0.59275 <br>\n",
    "triangle lattice: pc = 1/2 <br>\n",
    "pc depends on the lattice type and on the range of couplings <br>\n",
    "Finite crystal: there is only one probability that a cluster connecting 2 oppposite sides exists <br>"
   ]
  },
  {
   "cell_type": "code",
   "execution_count": 2,
   "metadata": {},
   "outputs": [],
   "source": [
    "import numpy as np\n",
    "import matplotlib.pyplot as plt\n",
    "import random as rand"
   ]
  },
  {
   "cell_type": "code",
   "execution_count": 16,
   "metadata": {},
   "outputs": [
    {
     "name": "stdout",
     "output_type": "stream",
     "text": [
      "Fig shows a pattern w/o structure. We cant easily analse the percolation structure e.g. does it percolates? \n",
      "Is there a path containing two opposite faces that only uses occupied sites?\n"
     ]
    },
    {
     "data": {
      "text/plain": [
       "<matplotlib.image.AxesImage at 0x1bb17f9e6d8>"
      ]
     },
     "execution_count": 16,
     "metadata": {},
     "output_type": "execute_result"
    },
    {
     "data": {
      "image/png": "[encoded data removed]",
      "text/plain": [
       "<Figure size 432x288 with 1 Axes>"
      ]
     },
     "metadata": {},
     "output_type": "display_data"
    }
   ],
   "source": [
    "L = 50\n",
    "p = 0.59275\n",
    "matrix = np.zeros([L,L], int)\n",
    "\n",
    "for i in np.arange(L):\n",
    "    for j in np.arange(L):\n",
    "        r = np.random.uniform(0,1)\n",
    "        if r < p:\n",
    "            matrix[i,j] = 1\n",
    "print('Fig shows a pattern w/o structure. We cant easily analse the percolation structure e.g. does it percolates? \\n'\n",
    "     'Is there a path containing two opposite faces that only uses occupied sites?'\n",
    "     'One can only see noise. ')\n",
    "plt.title('Percolation structure on a square lattice at the percolation threshold')\n",
    "plt.imshow(matrix)"
   ]
  },
  {
   "cell_type": "code",
   "execution_count": 61,
   "metadata": {},
   "outputs": [
    {
     "data": {
      "text/plain": [
       "<matplotlib.image.AxesImage at 0x1bb3203e438>"
      ]
     },
     "execution_count": 61,
     "metadata": {},
     "output_type": "execute_result"
    },
    {
     "data": {
      "image/png": "[encoded data removed]",
      "text/plain": [
       "<Figure size 432x288 with 1 Axes>"
      ]
     },
     "metadata": {},
     "output_type": "display_data"
    }
   ],
   "source": [
    "L = 100\n",
    "p = 0.59275\n",
    "N = 500\n",
    "matrix = np.ones([L,L], int)*-1\n",
    "matrix[:,0] = 0\n",
    "matrix[:,L-1] = 0\n",
    "matrix[0,:] = 0\n",
    "matrix[L-1,:] = 0\n",
    "\n",
    "c1 = int((L-1)/2)\n",
    "p1 = matrix[c1,c1]\n",
    "#let -1 as not defined, 0 as vacant, and 1 as occupied\n",
    "\n",
    "def iden(plist):\n",
    "    undeflist = []\n",
    "    for i in plist:\n",
    "        if matrix[i[0]+1,i[1]]==-1:\n",
    "            undeflist.append([i[0]+1,i[1]])\n",
    "        if matrix[i[0]-1,i[1]]==-1:\n",
    "            undeflist.append([i[0]-1,i[1]])\n",
    "        if matrix[i[0],i[1]+1]==-1:\n",
    "            undeflist.append([i[0],i[1]+1])\n",
    "        if matrix[i[0],i[1]-1]==-1:\n",
    "            undeflist.append([i[0],i[1]-1])\n",
    "        \n",
    "    return undeflist\n",
    "\n",
    "def choose(undeflist):\n",
    "    return undeflist[rand.randrange(0,len(undeflist))]\n",
    "\n",
    "plist=[[c1,c1]]\n",
    "for i in range(N):\n",
    "    r = np.random.uniform(0,1)\n",
    "    pt = choose(iden(plist))\n",
    "    \n",
    "    if r < p:\n",
    "        matrix[pt[0],pt[1]]=1\n",
    "        plist.append([pt[0],pt[1]])\n",
    "    else:\n",
    "        matrix[pt[0],pt[1]]=0\n",
    "        \n",
    "plt.imshow(matrix)"
   ]
  },
  {
   "cell_type": "markdown",
   "metadata": {},
   "source": [
    "This is an algorithm that can identify clusters of connected particles. \n",
    "Figure shows a percolating cluster, which exhibits structure on all length scales, from the lattice constant up to the size of \n",
    "the entire lattice. <br>\n",
    "It is a fractal self-similar object. <br>\n",
    "The program not only generates perclating clusters. The growth stops before the cluster has reached the edge. <br>\n",
    "This occurs for p<pc. <br>\n",
    "For p>pc, percolating clusters are generated almost  exclusively."
   ]
  },
  {
   "cell_type": "code",
   "execution_count": null,
   "metadata": {},
   "outputs": [],
   "source": [
    "L = 20\n",
    "p = 0.59275\n",
    "N = 500\n",
    "matrix = np.ones([L,L], int)*2\n",
    "matrix[:,0] = 1\n",
    "matrix[:,L-1] = 1\n",
    "matrix[0,:] = 1\n",
    "matrix[L-1,:] = 1\n",
    "\n",
    "#let 0 as vacant, and 1 as occupied, 2 as undefined\n",
    "\n",
    "def iden(list):\n",
    "    \n",
    "    "
   ]
  },
  {
   "cell_type": "code",
   "execution_count": 44,
   "metadata": {},
   "outputs": [
    {
     "data": {
      "text/plain": [
       "<matplotlib.image.AxesImage at 0x1bb30274400>"
      ]
     },
     "execution_count": 44,
     "metadata": {},
     "output_type": "execute_result"
    },
    {
     "data": {
      "image/png": "[encoded data removed]",
      "text/plain": [
       "<Figure size 432x288 with 1 Axes>"
      ]
     },
     "metadata": {},
     "output_type": "display_data"
    }
   ],
   "source": [
    "L = 20\n",
    "p = 0.59275\n",
    "N = 500\n",
    "matrix = np.ones([L,L], int)*2\n",
    "matrix[:,0] = 1\n",
    "matrix[:,L-1] = 1\n",
    "matrix[0,:] = 1\n",
    "matrix[L-1,:] = 1\n",
    "\n",
    "#let 0 as vacant, and 1 as occupied, 2 as undefined\n",
    "        \n",
    "def step(i,j):\n",
    "    step = rand.randrange(0,4)\n",
    "    if step == 0:\n",
    "        i+=1\n",
    "    elif step == 1:\n",
    "        i-=1\n",
    "    elif step == 2:\n",
    "        j+=1\n",
    "    elif step == 3:\n",
    "        j-=1\n",
    "        \n",
    "    if matrix[i,j] == 2:\n",
    "        return i,j\n",
    "    else:\n",
    "        return iden(i,j)\n",
    "\n",
    "c1 = int((L-1)/2)\n",
    "c2 = c1\n",
    "matrix[c1,c2] = 1\n",
    "for i in range(N):\n",
    "    if (0<c1<(L-1) and 0<c2<(L-1)):\n",
    "        r = np.random.uniform(0,1)\n",
    "        c = iden(c1,c2)\n",
    "        c1 = c[0]\n",
    "        c2 = c[1]\n",
    "        if r<p:\n",
    "            matrix[c1,c2] = 1\n",
    "        else:\n",
    "            matrix[c1,c2] = 0\n",
    "    else:\n",
    "        break\n",
    "       \n",
    "\n",
    "plt.imshow(matrix)\n",
    "    "
   ]
  },
  {
   "cell_type": "code",
   "execution_count": 8,
   "metadata": {},
   "outputs": [
    {
     "data": {
      "text/plain": [
       "1"
      ]
     },
     "execution_count": 8,
     "metadata": {},
     "output_type": "execute_result"
    }
   ],
   "source": [
    "p = 0.59275\n",
    "def iden(i,j):\n",
    "    step = rand.randrange(0,4)\n",
    "    r = np.random.uniform(0,1)\n",
    "    if r < p:\n",
    "        if step == 0:\n",
    "            i+=1\n",
    "        elif step == 1:\n",
    "            i-=1\n",
    "        elif step == 2:\n",
    "            j+=1\n",
    "        elif step == 3:\n",
    "            j-=1\n",
    "    else:\n",
    "        return iden(i,j)\n",
    "    return i,j\n",
    "\n",
    "iden(1,2)[0]\n"
   ]
  },
  {
   "cell_type": "code",
   "execution_count": 55,
   "metadata": {},
   "outputs": [
    {
     "data": {
      "text/plain": [
       "<matplotlib.image.AxesImage at 0x1bb31ed11d0>"
      ]
     },
     "execution_count": 55,
     "metadata": {},
     "output_type": "execute_result"
    },
    {
     "data": {
      "image/png": "[encoded data removed]",
      "text/plain": [
       "<Figure size 432x288 with 1 Axes>"
      ]
     },
     "metadata": {},
     "output_type": "display_data"
    }
   ],
   "source": [
    "L = 20\n",
    "p = 0.59275\n",
    "N = 20\n",
    "matrix = np.ones([L,L], int)*2\n",
    "matrix[:,0] = 1\n",
    "matrix[:,L-1] = 1\n",
    "matrix[0,:] = 1\n",
    "matrix[L-1,:] = 1\n",
    "\n",
    "#let 0 as vacant, and 1 as occupied, 2 as undefined\n",
    "        \n",
    "def iden(i,j):\n",
    "    step = rand.randrange(0,4)\n",
    "    if step == 0:\n",
    "        i+=1\n",
    "    elif step == 1:\n",
    "        i-=1\n",
    "    elif step == 2:\n",
    "        j+=1\n",
    "    elif step == 3:\n",
    "        j-=1\n",
    "        \n",
    "    if matrix[i,j] == 2:\n",
    "        return i,j\n",
    "    else:\n",
    "        return iden(i,j)\n",
    "\n",
    "c1 = int((L-1)/2)\n",
    "c2 = c1\n",
    "matrix[c1,c2] = 1\n",
    "for i in range(N):\n",
    "    if (0<c1<(L-1) and 0<c2<(L-1)):\n",
    "        r = np.random.uniform(0,1)\n",
    "        c = iden(c1,c2)\n",
    "        c1 = c[0]\n",
    "        c2 = c[1]\n",
    "        if r<p:\n",
    "            matrix[c1,c2] = 1\n",
    "        else:\n",
    "            matrix[c1,c2] = 0\n",
    "    else:\n",
    "        break\n",
    "\n",
    "plt.imshow(matrix)\n",
    "       "
   ]
  }
 ],
 "metadata": {
  "kernelspec": {
   "display_name": "Python 3",
   "language": "python",
   "name": "python3"
  },
  "language_info": {
   "codemirror_mode": {
    "name": "ipython",
    "version": 3
   },
   "file_extension": ".py",
   "mimetype": "text/x-python",
   "name": "python",
   "nbconvert_exporter": "python",
   "pygments_lexer": "ipython3",
   "version": "3.8.8"
  }
 },
 "nbformat": 4,
 "nbformat_minor": 2
}
